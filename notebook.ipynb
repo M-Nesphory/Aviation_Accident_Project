{
 "cells": [
  {
   "cell_type": "markdown",
   "id": "c07975eb",
   "metadata": {},
   "source": [
    "# Project Overview\n",
    "\n",
    "This project anylses the Aviation Accident dataset which contains accidents from 1962 and as recent as 2023. It contains over 80,000 records. This analysis can be used to see the safest airlines with the least accidents, fatalities occured and areas that can be improved to reduce such calamities."
   ]
  },
  {
   "cell_type": "markdown",
   "id": "be40ce6f",
   "metadata": {},
   "source": [
    "# Business Understanding\n",
    "\n",
    "We have been hired by Sky High Corp. They are interested in **purchasing and operating airplanes** for **commercial and private activities** and they want to know the **potential of risks involved in aviation**.\n",
    "\n",
    "We have been tasked to find **which aircraft have the lowest risk** for the company to start with as they venture into this business venture."
   ]
  },
  {
   "cell_type": "code",
   "execution_count": 39,
   "id": "fb7d4f27",
   "metadata": {},
   "outputs": [],
   "source": [
    "# Importing the necessary libraries\n",
    "import pandas as pd\n",
    "import seaborn as sns\n",
    "import matplotlib.pyplot as plt\n",
    "\n",
    "# To display all columns\n",
    "pd.set_option('display.max_columns', 500)\n",
    "\n",
    "# To ensure all visualizations stay within the notebook\n",
    "%matplotlib inline"
   ]
  },
  {
   "cell_type": "code",
   "execution_count": null,
   "id": "ed9103d8",
   "metadata": {},
   "outputs": [],
   "source": [
    "# Loading the dataset \n",
    "aviation_df = pd.read_csv(\"./data/AviationData.csv\", encoding = 'latin-1',\n",
    "                         dtype = {6: str, 7:str, 28: str})\n",
    "# dtype = {6: str, 7:str, 28: str}: was used to set the data type for those specific columns to str to avoid errors\n",
    "aviation_df"
   ]
  },
  {
   "cell_type": "markdown",
   "id": "868a3d49",
   "metadata": {},
   "source": [
    "# Data Understanding"
   ]
  },
  {
   "cell_type": "code",
   "execution_count": null,
   "id": "cf700b46",
   "metadata": {},
   "outputs": [],
   "source": [
    "print(f\"The Accident Aviation dataset contains {aviation_df.shape[0]} rows and {aviation_df.shape[1]} columns\")"
   ]
  },
  {
   "cell_type": "code",
   "execution_count": null,
   "id": "15b91c48",
   "metadata": {},
   "outputs": [],
   "source": [
    "aviation_df.info()"
   ]
  },
  {
   "cell_type": "code",
   "execution_count": null,
   "id": "189cedd5",
   "metadata": {},
   "outputs": [],
   "source": [
    "# Checking the percentage of null values in all columns\n",
    "aviation_df.isna().mean()*100"
   ]
  },
  {
   "cell_type": "markdown",
   "id": "3510f2ae",
   "metadata": {},
   "source": [
    "# Data Preparation"
   ]
  },
  {
   "cell_type": "code",
   "execution_count": null,
   "id": "b2db2570",
   "metadata": {},
   "outputs": [],
   "source": [
    "# Converting all column names to lower and replacing dots with underscores\n",
    "aviation_df.columns = aviation_df.columns.str.lower().str.replace('.', \"_\", regex = True)\n",
    "aviation_df.columns"
   ]
  },
  {
   "cell_type": "code",
   "execution_count": null,
   "id": "a92cd424",
   "metadata": {},
   "outputs": [],
   "source": [
    "aviation_df.isna().sum()"
   ]
  },
  {
   "cell_type": "code",
   "execution_count": null,
   "id": "9ef76310",
   "metadata": {},
   "outputs": [],
   "source": [
    "# To get only accidents that happen in the United States and its territories\n",
    "us_territories = [\"United States\",'American Samoa','Guam',\"Marshall Islands\",\"Micronesia\",\n",
    "                  \"Northern Marianas\",\"Palau\",\"Puerto Rico\",\"Virgin Islands\",\"Washington_DC\",\n",
    "                  \"Gulf of Mexico\",\"Atlantic Ocean\",\"Pacific Ocean\"]\n",
    "us_accidents_df = aviation_df[aviation_df['country'].isin(us_territories)]"
   ]
  },
  {
   "cell_type": "code",
   "execution_count": null,
   "id": "567e606f",
   "metadata": {},
   "outputs": [],
   "source": [
    "us_accidents_df.info()"
   ]
  },
  {
   "cell_type": "code",
   "execution_count": null,
   "id": "bef18824",
   "metadata": {},
   "outputs": [],
   "source": [
    "# Checking for the percentage of null values in each column\n",
    "us_accidents_df.isna().mean()*100"
   ]
  },
  {
   "cell_type": "code",
   "execution_count": null,
   "id": "c7260fd3",
   "metadata": {},
   "outputs": [],
   "source": [
    "# Dropping unnecessary columns\n",
    "us_accidents = us_accidents_df.copy()\n",
    "us_accidents.drop(['latitude',\n",
    "                   'longitude', \n",
    "                   'schedule',\n",
    "                   'far_description',\n",
    "                   'airport_code',\n",
    "                   'report_status',\n",
    "                   'publication_date',\n",
    "                   'air_carrier',\n",
    "                   'airport_name',], axis = 1, inplace = True)"
   ]
  },
  {
   "cell_type": "markdown",
   "id": "63da5748",
   "metadata": {},
   "source": [
    "Some columns had to be changed to appropriate data types:\n",
    "- `number_of_engines`,`total_fatal_injuries`,`total_serious_injuries`,`total_minor_injuries` and `total_uninjured` had to be changed as people and number of engines cannot be continuous data\n",
    "- `event_date` had to be changed to a datetime format and the year extracted"
   ]
  },
  {
   "cell_type": "code",
   "execution_count": null,
   "id": "e993340b",
   "metadata": {},
   "outputs": [],
   "source": [
    "# Filling null values with 0 and changing data type to int\n",
    "# 0 becomes a placeholder\n",
    "us_accidents['number_of_engines'] = us_accidents['number_of_engines'].fillna(0).astype(int)\n",
    "us_accidents['total_fatal_injuries'] = us_accidents['total_fatal_injuries'].fillna(0).astype(int)\n",
    "us_accidents['total_serious_injuries'] = us_accidents['total_serious_injuries'].fillna(0).astype(int)\n",
    "us_accidents['total_minor_injuries'] = us_accidents['total_minor_injuries'].fillna(0).astype(int)\n",
    "us_accidents['total_uninjured'] = us_accidents['total_uninjured'].fillna(0).astype(int)\n",
    "\n",
    "# Only getting the Year the incident/accident happened\n",
    "us_accidents['event_date'] = pd.to_datetime(us_accidents['event_date'], format='%Y-%m-%d').dt.strftime('%Y')\n",
    "us_accidents.columns = us_accidents.columns.str.replace('event_date', \"event_year\")"
   ]
  },
  {
   "cell_type": "code",
   "execution_count": null,
   "id": "f671a64a",
   "metadata": {},
   "outputs": [],
   "source": [
    "# Checking for duplicated using the event_id\n",
    "us_accidents[us_accidents.duplicated(subset = 'event_id', keep = False)].head(50)"
   ]
  },
  {
   "cell_type": "markdown",
   "id": "e25f4376",
   "metadata": {},
   "source": [
    "While trying to check for duplicates in `event_id`, it was discovered that in cases where the `event_id` was duplicated, two aircrafts were involved in the accident. They were both logged in one event_id but different accident_number "
   ]
  },
  {
   "cell_type": "markdown",
   "id": "3f1ee00f",
   "metadata": {},
   "source": [
    "### Aircraft Category Column\n",
    "\n",
    "The Aircraft Category Column started with around 65% of null values in the column. Since our client mostly wants airplanes data, we had to try to minimize the null values.\n",
    "\n",
    "The following were done after a lot of research:\n",
    "- The type of aircraft had to be identified using the `make` and `model` columns.\n",
    "- Some duplicates were removed in the `make` and `model` columns by converting all values into Title case.\n",
    "- Depending on the aircrafts we have in the dataset, we determined all that were helicopters, airplanes and some gliders\n",
    "- Some naming conventions were changed to ensure uniformity in the dataset.\n",
    "\n",
    "Once most of the data in the `aircraft_category` was cleaned, we were able to reduce the null values from 65% to 13%. The rest of the null values were then dropped"
   ]
  },
  {
   "cell_type": "code",
   "execution_count": null,
   "id": "d793d926",
   "metadata": {},
   "outputs": [],
   "source": [
    "us_accidents.isna().mean()*100"
   ]
  },
  {
   "cell_type": "code",
   "execution_count": null,
   "id": "a2b0c0a6",
   "metadata": {},
   "outputs": [],
   "source": [
    "us_accidents['make'].value_counts()"
   ]
  },
  {
   "cell_type": "code",
   "execution_count": null,
   "id": "4c63473c",
   "metadata": {},
   "outputs": [],
   "source": [
    "# Converting all values into Title case\n",
    "us_accidents['make'] = us_accidents['make'].str.title()\n",
    "#pd.set_option('display.max_rows', None)\n",
    "us_accidents['make'].value_counts().head(56)"
   ]
  },
  {
   "cell_type": "code",
   "execution_count": null,
   "id": "0fc64eeb",
   "metadata": {},
   "outputs": [],
   "source": [
    "# Imputing the appropriate aircraft category depending on make and model columns\n",
    "us_accidents.loc[us_accidents['make'] == 'Cessna', 'aircraft_category'] = 'Airplane'\n",
    "us_accidents.loc[us_accidents['make'] == 'Piper', 'aircraft_category'] = 'Airplane'\n",
    "us_accidents.loc[us_accidents['make'] == 'Beech', 'aircraft_category'] = 'Airplane'\n",
    "us_accidents.loc[us_accidents['make'] == 'Mooney', 'aircraft_category'] = 'Airplane'\n",
    "us_accidents.loc[us_accidents['make'] == 'Bellanca', 'aircraft_category'] = 'Airplane'\n",
    "us_accidents.loc[us_accidents['make'] == 'Boeing', 'aircraft_category'] = 'Airplane'\n",
    "us_accidents.loc[us_accidents['make'] == 'American Champion Aircraft', 'aircraft_category'] = 'Airplane'\n",
    "us_accidents.loc[us_accidents['make'] == 'Aeronca', 'aircraft_category'] = 'Airplane'\n",
    "us_accidents.loc[us_accidents['make'] == 'Maule', 'aircraft_category'] = 'Airplane'\n",
    "us_accidents.loc[us_accidents['make'] == 'Stinson', 'aircraft_category'] = 'Airplane'\n",
    "us_accidents.loc[us_accidents['make'] == 'Luscombe', 'aircraft_category'] = 'Airplane'\n",
    "us_accidents.loc[us_accidents['make'] == 'Aero Commander', 'aircraft_category'] = 'Airplane'\n",
    "us_accidents.loc[us_accidents['make'] == 'Taylorcraft', 'aircraft_category'] = 'Airplane'\n",
    "us_accidents.loc[us_accidents['make'] == 'Rockwell International', 'aircraft_category'] = 'Airplane'\n",
    "us_accidents.loc[us_accidents['make'] == 'North American', 'aircraft_category'] = 'Helicopter'\n",
    "us_accidents.loc[us_accidents['make'] == 'Hiller', 'aircraft_category'] = 'Helicopter'\n",
    "us_accidents.loc[us_accidents['make'] == 'Bell', 'aircraft_category'] = 'Helicopter'\n",
    "us_accidents.loc[us_accidents['make'] == 'Hughes', 'aircraft_category'] = 'Helicopter'\n",
    "\n",
    "# Streamlining naming conventions for Robinson Helicopter Company\n",
    "us_accidents['make'] = us_accidents['make'].replace(['Robinson','Robinson Helicopter','Robinson Helicopter Company'], \"Robinson Helicopter Company\")\n",
    "us_accidents.loc[us_accidents['make'] == 'Robinson Helicopter Company', 'aircraft_category'] = 'Helicopter'\n",
    "\n",
    "# Streamlining naming conventions for Northrop Grumman \n",
    "us_accidents['make'] = us_accidents['make'].replace(['Grumman','Grumman American','Grumman American Avn. Corp.'], \"Northrop Grumman\")\n",
    "us_accidents.loc[us_accidents['make'] == 'Northrop Grumman', 'aircraft_category'] = 'Airplane'\n",
    "\n",
    "# Streamlining naming conventions for De Havilland \n",
    "us_accidents['make'] = us_accidents['make'].replace(['Dehavilland','De Havilland'], \"De Havilland\")\n",
    "us_accidents.loc[us_accidents['make'] == 'De Havilland', 'aircraft_category'] = 'Airplane'\n",
    "\n",
    "# Streamlining naming conventions for Air Tractor Inc \n",
    "us_accidents['make'] = us_accidents['make'].replace(['Air Tractor','Air Tractor Inc'], \"Air Tractor Inc\")\n",
    "us_accidents.loc[us_accidents['make'] == 'Air Tractor Inc', 'aircraft_category'] = 'Airplane'\n",
    "\n",
    "# Streamlining naming conventions for American Champion Aircraft \n",
    "us_accidents['make'] = us_accidents['make'].replace(['American Champion Aircraft','Champion'], \"American Champion Aircraft\")\n",
    "\n",
    "# Streamlining naming conventions for Rockwell International \n",
    "us_accidents['make'] = us_accidents['make'].replace(['Rockwell','Rockwell International'], \"Rockwell International\")\n",
    "\n",
    "# Streamlining naming conventions for Cirrus Design Corp \n",
    "us_accidents['make'] = us_accidents['make'].replace(['Cirrus Design Corp','Cirrus'], \"Cirrus Design Corp\")\n",
    "\n",
    "# Streamlining naming conventions for Aviat Aircraft Inc \n",
    "us_accidents['make'] = us_accidents['make'].replace(['Aviat Aircraft Inc','Aviat'], \"Aviat Aircraft Inc\")\n",
    "\n",
    "# Streamlining naming conventions for Rockwell International \n",
    "us_accidents['make'] = us_accidents['make'].replace(['Ayres Corporation','Ayres'], \"Ayres Corporation\")\n",
    "\n",
    "# Streamlining naming conventions for Diamond Aircraft Ind Inc \n",
    "us_accidents['make'] = us_accidents['make'].replace(['Diamond Aircraft Ind Inc','Diamond'], \"Diamond Aircraft Ind Inc\")\n",
    "\n",
    "# Imputing the appropriate aircraft category depending on make and model columns for Schweizer\n",
    "us_accidents.loc[(us_accidents['aircraft_category'].isna()) & \n",
    "                 (us_accidents['make'] == \"Schweizer\") & \n",
    "                 (us_accidents['model'].str.contains('269|300', na = False, case = False)), 'aircraft_category'] = \"Helicopter\"\n",
    "us_accidents.loc[(us_accidents['aircraft_category'].isna()) & \n",
    "                 (us_accidents['make'] == \"Schweizer\") & \n",
    "                 (us_accidents['model'].str.contains('2-3|1-2|2-2|1-3|SGS', na = False, case = False)), 'aircraft_category'] = \"Glider\"\n",
    "us_accidents.loc[(us_accidents['aircraft_category'].isna()) & \n",
    "                 (us_accidents['make'] == \"Schweizer\") & \n",
    "                 (us_accidents['model'].str.contains('164', na = False, case = False)), 'aircraft_category'] = \"Airplane\"\n",
    "\n",
    "# Imputing the appropriate aircraft category depending on make and model columns for McDonnell Douglas\n",
    "us_accidents.loc[(us_accidents['aircraft_category'].isna()) & \n",
    "                 (us_accidents['make'] == \"Mcdonnell Douglas\") & \n",
    "                 (us_accidents['model'].str.contains('DC|MD-8|MD-11|MD-9|MD8|MD-10|MD11', na = False, case = False)), 'aircraft_category'] = \"Airplane\"\n",
    "us_accidents.loc[(us_accidents['aircraft_category'].isna()) & \n",
    "                 (us_accidents['make'] == \"Mcdonnell Douglas\") & \n",
    "                 (us_accidents['model'].str.contains('369|500|600|269|520|90', na = False, case = False)), 'aircraft_category'] = \"Helicopter\"\n",
    "us_accidents['make'] = us_accidents['make'].replace('Mcdonnell Douglas', \"McDonnell Douglas\")\n",
    "\n",
    "# Replacing UNK with Unknown\n",
    "us_accidents['aircraft_category'] = us_accidents['aircraft_category'].replace('UNK', \"Unknown\")\n",
    "\n",
    "# Dropping the rest of the values\n",
    "us_accidents.dropna(subset = ['make', 'model','aircraft_category'], inplace = True)"
   ]
  },
  {
   "cell_type": "code",
   "execution_count": null,
   "id": "163f4ee8",
   "metadata": {},
   "outputs": [],
   "source": [
    "# Final Results\n",
    "us_accidents['aircraft_category'].value_counts()"
   ]
  },
  {
   "cell_type": "markdown",
   "id": "228f8bd7",
   "metadata": {},
   "source": [
    "### Location and State Columns\n",
    "\n",
    "New column had to be computed to get the states and the area that the accident happened\n",
    "- `area` was to contain the genral area where the accident occured\n",
    "- `state_short_code` contains the abbreviation for the states and the territories\n",
    "\n",
    "Due to input errors, especially among the US Territories, manual replacements had to be done to get the correct data. In cases where the area could not be fetched, **UN** is put to represent **Unknown**"
   ]
  },
  {
   "cell_type": "code",
   "execution_count": null,
   "id": "107dc4ac",
   "metadata": {},
   "outputs": [],
   "source": [
    "# Creating and cleaning up the created columns\n",
    "new_cols = us_accidents['location'].str.rsplit(',',n = 1, expand = True)\n",
    "us_accidents['area'] = new_cols[0]\n",
    "us_accidents['state_abbrev'] = new_cols[1].str.strip()"
   ]
  },
  {
   "cell_type": "code",
   "execution_count": null,
   "id": "50e758be",
   "metadata": {},
   "outputs": [],
   "source": [
    "# pd.set_option('display.max_rows', None)\n",
    "us_accidents['state_abbrev'].value_counts()"
   ]
  },
  {
   "cell_type": "code",
   "execution_count": null,
   "id": "6765eba6",
   "metadata": {},
   "outputs": [],
   "source": [
    "# Renaming the short codes accordingly\n",
    "us_accidents['state_abbrev'] = us_accidents['state_abbrev'].replace([\"Virgin Islands (British)\", 'CB'], 'VI')\n",
    "us_accidents['state_abbrev'] = us_accidents['state_abbrev'].replace([\"American Samoa\",\"AMERICAN SAMOA\"], 'AS')\n",
    "us_accidents['state_abbrev'] = us_accidents['state_abbrev'].replace(\"Micronesia (Federated States of)\", 'FM')\n",
    "us_accidents['state_abbrev'] = us_accidents['state_abbrev'].replace([\"Marshall Islands\",\"MARSHALL ISLANDS\"], 'MH')\n",
    "us_accidents['state_abbrev'] = us_accidents['state_abbrev'].replace(\"Palau\", 'PW')\n",
    "\n",
    "# All Empty Values replaced with UN for Unknown\n",
    "us_accidents['state_abbrev'] = us_accidents['state_abbrev'].replace(\"\", 'UN')\n",
    "us_accidents['state_abbrev'] = us_accidents['state_abbrev'].fillna('UN')"
   ]
  },
  {
   "cell_type": "code",
   "execution_count": null,
   "id": "b9d2c215",
   "metadata": {},
   "outputs": [],
   "source": [
    "# pd.set_option('display.max_rows', None)\n",
    "us_accidents['state_abbrev'].value_counts()"
   ]
  },
  {
   "cell_type": "markdown",
   "id": "1586a460",
   "metadata": {},
   "source": [
    "All good"
   ]
  },
  {
   "cell_type": "code",
   "execution_count": null,
   "id": "ff78221e",
   "metadata": {},
   "outputs": [],
   "source": [
    "# This dictionary contains thee long form of the state abbreviations\n",
    "state_abbreviation = {\n",
    "    \"AL\": \"Alabama\",\n",
    "    \"AK\": \"Alaska\",\n",
    "    \"AZ\": \"Arizona\",\n",
    "    \"AR\": \"Arkansas\",\n",
    "    \"CA\": \"California\",\n",
    "    \"CO\": \"Colorado\",\n",
    "    \"CT\": \"Connecticut\",\n",
    "    \"DE\": \"Delaware\",\n",
    "    \"FL\": \"Florida\",\n",
    "    \"GA\": \"Georgia\",\n",
    "    \"HI\": \"Hawaii\",\n",
    "    \"ID\": \"Idaho\",\n",
    "    \"IL\": \"Illinois\",\n",
    "    \"IN\": \"Indiana\",\n",
    "    \"IA\": \"Iowa\",\n",
    "    \"KS\": \"Kansas\",\n",
    "    \"KY\": \"Kentucky\",\n",
    "    \"LA\": \"Louisiana\",\n",
    "    \"ME\": \"Maine\",\n",
    "    \"MD\": \"Maryland\",\n",
    "    \"MA\": \"Massachusetts\",\n",
    "    \"MI\": \"Michigan\",\n",
    "    \"MN\": \"Minnesota\",\n",
    "    \"MS\": \"Mississippi\",\n",
    "    \"MO\": \"Missouri\",\n",
    "    \"MT\": \"Montana\",\n",
    "    \"NE\": \"Nebraska\",\n",
    "    \"NV\": \"Nevada\",\n",
    "    \"NH\": \"New Hampshire\",\n",
    "    \"NJ\": \"New Jersey\",\n",
    "    \"NM\": \"New Mexico\",\n",
    "    \"NY\": \"New York\",\n",
    "    \"NC\": \"North Carolina\",\n",
    "    \"ND\": \"North Dakota\",\n",
    "    \"OH\": \"Ohio\",\n",
    "    \"OK\": \"Oklahoma\",\n",
    "    \"OR\": \"Oregon\",\n",
    "    \"PA\": \"Pennsylvania\",\n",
    "    \"RI\": \"Rhode Island\",\n",
    "    \"SC\": \"South Carolina\",\n",
    "    \"SD\": \"South Dakota\",\n",
    "    \"TN\": \"Tennessee\",\n",
    "    \"TX\": \"Texas\",\n",
    "    \"UT\": \"Utah\",\n",
    "    \"VT\": \"Vermont\",\n",
    "    \"VA\": \"Virginia\",\n",
    "    \"WA\": \"Washington\",\n",
    "    \"WV\": \"West Virginia\",\n",
    "    \"WI\": \"Wisconsin\",\n",
    "    \"WY\": \"Wyoming\",\n",
    "    \"AS\": \"American Samoa\",\n",
    "    \"GU\": \"Guam\",\n",
    "    \"MH\": \"Marshall Islands\",\n",
    "    \"FM\": \"Micronesia\",\n",
    "    \"MP\": \"Northern Marianas\",\n",
    "    \"PW\": \"Palau\",\n",
    "    \"PR\": \"Puerto Rico\",\n",
    "    \"VI\": \"Virgin Islands\",\n",
    "    \"DC\": \"Washington DC\",\n",
    "    \"GM\": \"Gulf of Mexico\",\n",
    "    \"AO\": \"Atlantic Ocean\",\n",
    "    \"PO\": \"Atlantic Ocean\",\n",
    "    \"UN\": \"Unknown\"\n",
    "}"
   ]
  },
  {
   "cell_type": "code",
   "execution_count": null,
   "id": "1ec78f6f",
   "metadata": {},
   "outputs": [],
   "source": [
    "# Making a new column with the abbreviations\n",
    "us_accidents['state'] = us_accidents['state_abbrev'].map(state_abbreviation)"
   ]
  },
  {
   "cell_type": "code",
   "execution_count": null,
   "id": "e5853c91",
   "metadata": {},
   "outputs": [],
   "source": [
    "us_accidents.info()"
   ]
  },
  {
   "cell_type": "markdown",
   "id": "fa395d84",
   "metadata": {},
   "source": [
    "While investigating the state null values, it was discovered that some columns had the **OF** abbreviation that is not attched to any state and territory as they are not in the United States. They were thus dropped."
   ]
  },
  {
   "cell_type": "code",
   "execution_count": null,
   "id": "d037ce3d",
   "metadata": {},
   "outputs": [],
   "source": [
    "us_accidents.drop(us_accidents[us_accidents['state'].isna()].index, inplace = True)"
   ]
  },
  {
   "cell_type": "markdown",
   "id": "817f5be2",
   "metadata": {},
   "source": [
    "### Injury Columns\n",
    "\n",
    "A new column, `'total_injured'`, is created. It contains the sum of all the injured columns."
   ]
  },
  {
   "cell_type": "code",
   "execution_count": null,
   "id": "06df1b21",
   "metadata": {},
   "outputs": [],
   "source": [
    "us_accidents['total_injured'] = us_accidents[['total_fatal_injuries',\n",
    "                                              'total_serious_injuries',\n",
    "                                              'total_minor_injuries']].sum(axis = 1)\n",
    "us_accidents"
   ]
  },
  {
   "cell_type": "markdown",
   "id": "4f4a6ff1",
   "metadata": {},
   "source": [
    "### Injury Severity Column\n",
    "\n",
    "Cleaning up the `'injury_severity'` column has a lot of fatal rows but contains a number. Let us only remain with **Fatal** and not Fatal(1), Fatal(4) etc."
   ]
  },
  {
   "cell_type": "code",
   "execution_count": null,
   "id": "a1ba9a8b",
   "metadata": {},
   "outputs": [],
   "source": [
    "# Before\n",
    "us_accidents['injury_severity'].value_counts()"
   ]
  },
  {
   "cell_type": "code",
   "execution_count": null,
   "id": "2f6cbec8",
   "metadata": {},
   "outputs": [],
   "source": [
    "us_accidents['injury_severity'] = us_accidents['injury_severity'].str.replace(r'\\(\\d+\\)', '', regex = True)"
   ]
  },
  {
   "cell_type": "code",
   "execution_count": null,
   "id": "3f64e10f",
   "metadata": {},
   "outputs": [],
   "source": [
    "# After\n",
    "us_accidents['injury_severity'].value_counts()"
   ]
  },
  {
   "cell_type": "markdown",
   "id": "f307aede",
   "metadata": {},
   "source": [
    "### Model Column\n",
    "\n",
    "The model column is mostly clean. The biggest worry in this column is user input error where some users have put hyphens or spaces where there shouldn't be or they have been used interchangeably. To curb this and get a more accurate description, removing of the hyphens and whitespaces might be the best way to solve this issue."
   ]
  },
  {
   "cell_type": "code",
   "execution_count": null,
   "id": "cd68b6c1",
   "metadata": {},
   "outputs": [],
   "source": [
    "us_accidents['model'] = us_accidents['model'].str.replace(r\"[-\\s]\", '', regex = True)\n",
    "# -: removes hyphens\n",
    "# s: removes whitespaces"
   ]
  },
  {
   "cell_type": "code",
   "execution_count": null,
   "id": "c2d82407",
   "metadata": {
    "scrolled": false
   },
   "outputs": [],
   "source": [
    "#pd.set_option('display.max_rows', None)\n",
    "us_accidents[['make','model']].value_counts()"
   ]
  },
  {
   "cell_type": "code",
   "execution_count": null,
   "id": "5ccd0578",
   "metadata": {},
   "outputs": [],
   "source": [
    "# Dropping rows with \"Unavailable\" and NaN values\n",
    "us_accidents.drop(us_accidents[(us_accidents['injury_severity'].isna()) | \n",
    "                  (us_accidents['injury_severity'] == \"Unavailable\") |\n",
    "                   (us_accidents['amateur_built'] == \"Yes\") |\n",
    "                    (us_accidents['amateur_built'].isna())].index, inplace = True)"
   ]
  },
  {
   "cell_type": "markdown",
   "id": "ad663887",
   "metadata": {},
   "source": [
    "#### Cleaning Up Null Values"
   ]
  },
  {
   "cell_type": "code",
   "execution_count": null,
   "id": "af1a08b7",
   "metadata": {},
   "outputs": [],
   "source": [
    "# Filling NaN in aircraft_damage with Unknown\n",
    "us_accidents['aircraft_damage'] =  us_accidents['aircraft_damage'].fillna('Unknown')\n",
    "\n",
    "# Filling NaN in engine_type with Unknown\n",
    "us_accidents['engine_type'] = us_accidents['engine_type'].replace(\"UNK\", \"Unknown\")\n",
    "us_accidents['engine_type'] = us_accidents['engine_type'].fillna('Unknown')\n",
    "\n",
    "# Filling NaN in purpose_of_flight with Unknown\n",
    "us_accidents['purpose_of_flight'] = us_accidents['purpose_of_flight'].fillna(\"Unkown\")\n",
    "\n",
    "# Dropping unnecessary Columns\n",
    "us_accidents.drop(['location',\n",
    "                   'broad_phase_of_flight',\n",
    "                   'registration_number',\n",
    "                   'area',\n",
    "                   'amateur_built',\n",
    "                   'accident_number',\n",
    "                   'weather_condition'\n",
    "                  ], axis = 1, inplace = True)"
   ]
  },
  {
   "cell_type": "code",
   "execution_count": null,
   "id": "c8b1221d",
   "metadata": {},
   "outputs": [],
   "source": [
    "# Only remaining with columns which contain Airplane and Helicopters only\n",
    "us_accidents = us_accidents[(us_accidents['aircraft_category'] == \"Airplane\") | \n",
    "                            (us_accidents['aircraft_category'] == \"Helicopter\")]"
   ]
  },
  {
   "cell_type": "code",
   "execution_count": null,
   "id": "a3c7476f",
   "metadata": {},
   "outputs": [],
   "source": [
    "# Filtering us_accidents to only get the top 30 planes\n",
    "considered_planes = list(us_accidents['make'].value_counts().head(30).index)\n",
    "\n",
    "us_accidents = us_accidents[us_accidents['make'].isin(considered_planes)]"
   ]
  },
  {
   "cell_type": "code",
   "execution_count": null,
   "id": "5e10bfd5",
   "metadata": {},
   "outputs": [],
   "source": [
    "# Reordering Columns and resetting the index\n",
    "col_order = ['event_id', 'investigation_type', 'event_year','state_abbrev', 'state','country',\n",
    "             'aircraft_category', 'make','model', 'number_of_engines', 'engine_type','purpose_of_flight',\n",
    "            'total_fatal_injuries', 'total_serious_injuries','total_minor_injuries', 'total_injured', 'total_uninjured',\n",
    "            'injury_severity', 'aircraft_damage']\n",
    "us_accidents = us_accidents[col_order].reset_index(drop = True)"
   ]
  },
  {
   "cell_type": "markdown",
   "id": "d6f587bd",
   "metadata": {},
   "source": [
    "This is our cleaned data"
   ]
  },
  {
   "cell_type": "code",
   "execution_count": null,
   "id": "405f966f",
   "metadata": {},
   "outputs": [],
   "source": [
    "# Saving the file\n",
    "us_accidents.to_csv(\"./data/US_Avaition_Accidents.csv\", encoding = 'latin-1', index = False)"
   ]
  },
  {
   "cell_type": "markdown",
   "id": "15a5c6b8",
   "metadata": {},
   "source": [
    "# Data Analysis"
   ]
  },
  {
   "cell_type": "code",
   "execution_count": null,
   "id": "074e548a",
   "metadata": {},
   "outputs": [],
   "source": []
  }
 ],
 "metadata": {
  "kernelspec": {
   "display_name": "Python (learn-env)",
   "language": "python",
   "name": "learn-env"
  },
  "language_info": {
   "codemirror_mode": {
    "name": "ipython",
    "version": 3
   },
   "file_extension": ".py",
   "mimetype": "text/x-python",
   "name": "python",
   "nbconvert_exporter": "python",
   "pygments_lexer": "ipython3",
   "version": "3.8.5"
  }
 },
 "nbformat": 4,
 "nbformat_minor": 5
}
